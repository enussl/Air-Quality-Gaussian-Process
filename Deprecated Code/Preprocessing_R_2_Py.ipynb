{
 "cells": [
  {
   "attachments": {},
   "cell_type": "markdown",
   "metadata": {},
   "source": [
    "### Package installation and import"
   ]
  },
  {
   "cell_type": "code",
   "execution_count": 47,
   "metadata": {},
   "outputs": [
    {
     "name": "stdout",
     "output_type": "stream",
     "text": [
      "Collecting geopy\n",
      "  Downloading geopy-2.3.0-py3-none-any.whl (119 kB)\n",
      "Collecting geographiclib<3,>=1.52\n",
      "  Downloading geographiclib-2.0-py3-none-any.whl (40 kB)\n",
      "Installing collected packages: geographiclib, geopy\n",
      "Successfully installed geographiclib-2.0 geopy-2.3.0\n"
     ]
    },
    {
     "name": "stderr",
     "output_type": "stream",
     "text": [
      "WARNING: You are using pip version 21.3; however, version 23.1.2 is available.\n",
      "You should consider upgrading via the 'C:\\Users\\nial\\AppData\\Local\\Microsoft\\WindowsApps\\PythonSoftwareFoundation.Python.3.9_qbz5n2kfra8p0\\python.exe -m pip install --upgrade pip' command.\n"
     ]
    }
   ],
   "source": [
    "#!pip install geopandas\n",
    "#!pip install shapely\n",
    "#!pip install pyproj\n",
    "#!pip install osmnx\n",
    "!pip install geopy"
   ]
  },
  {
   "cell_type": "code",
   "execution_count": 62,
   "metadata": {},
   "outputs": [],
   "source": [
    "import pandas as pd\n",
    "import numpy as np\n",
    "import geopandas as gpd\n",
    "from shapely.geometry import Point, Polygon, LineString\n",
    "from pyproj import CRS\n",
    "from datetime import datetime, timedelta\n",
    "import osmnx as ox\n",
    "from geopy.distance import geodesic, distance\n",
    "import geopy\n",
    "from matplotlib import pyplot as plt"
   ]
  },
  {
   "attachments": {},
   "cell_type": "markdown",
   "metadata": {},
   "source": [
    "### Loading data"
   ]
  },
  {
   "attachments": {},
   "cell_type": "markdown",
   "metadata": {},
   "source": [
    "Load data for comparison and validation:"
   ]
  },
  {
   "cell_type": "code",
   "execution_count": 2,
   "metadata": {},
   "outputs": [
    {
     "ename": "KeyboardInterrupt",
     "evalue": "",
     "output_type": "error",
     "traceback": [
      "\u001b[1;31m---------------------------------------------------------------------------\u001b[0m",
      "\u001b[1;31mKeyboardInterrupt\u001b[0m                         Traceback (most recent call last)",
      "Cell \u001b[1;32mIn[2], line 1\u001b[0m\n\u001b[1;32m----> 1\u001b[0m alldata \u001b[39m=\u001b[39m pd\u001b[39m.\u001b[39;49mread_csv(\u001b[39mr\u001b[39;49m\u001b[39m\"\u001b[39;49m\u001b[39mC:\u001b[39;49m\u001b[39m\\\u001b[39;49m\u001b[39mUsers\u001b[39;49m\u001b[39m\\\u001b[39;49m\u001b[39mnial\u001b[39;49m\u001b[39m\\\u001b[39;49m\u001b[39mOneDrive\u001b[39;49m\u001b[39m\\\u001b[39;49m\u001b[39mDocuments\u001b[39;49m\u001b[39m\\\u001b[39;49m\u001b[39mETH-Zürich-DESKTOP-9E8KBS8\u001b[39;49m\u001b[39m\\\u001b[39;49m\u001b[39mAQ Data Collection\u001b[39;49m\u001b[39m\\\u001b[39;49m\u001b[39malldata.csv\u001b[39;49m\u001b[39m\"\u001b[39;49m)\n",
      "File \u001b[1;32m~\\AppData\\Local\\Packages\\PythonSoftwareFoundation.Python.3.9_qbz5n2kfra8p0\\LocalCache\\local-packages\\Python39\\site-packages\\pandas\\util\\_decorators.py:211\u001b[0m, in \u001b[0;36mdeprecate_kwarg.<locals>._deprecate_kwarg.<locals>.wrapper\u001b[1;34m(*args, **kwargs)\u001b[0m\n\u001b[0;32m    209\u001b[0m     \u001b[39melse\u001b[39;00m:\n\u001b[0;32m    210\u001b[0m         kwargs[new_arg_name] \u001b[39m=\u001b[39m new_arg_value\n\u001b[1;32m--> 211\u001b[0m \u001b[39mreturn\u001b[39;00m func(\u001b[39m*\u001b[39margs, \u001b[39m*\u001b[39m\u001b[39m*\u001b[39mkwargs)\n",
      "File \u001b[1;32m~\\AppData\\Local\\Packages\\PythonSoftwareFoundation.Python.3.9_qbz5n2kfra8p0\\LocalCache\\local-packages\\Python39\\site-packages\\pandas\\util\\_decorators.py:331\u001b[0m, in \u001b[0;36mdeprecate_nonkeyword_arguments.<locals>.decorate.<locals>.wrapper\u001b[1;34m(*args, **kwargs)\u001b[0m\n\u001b[0;32m    325\u001b[0m \u001b[39mif\u001b[39;00m \u001b[39mlen\u001b[39m(args) \u001b[39m>\u001b[39m num_allow_args:\n\u001b[0;32m    326\u001b[0m     warnings\u001b[39m.\u001b[39mwarn(\n\u001b[0;32m    327\u001b[0m         msg\u001b[39m.\u001b[39mformat(arguments\u001b[39m=\u001b[39m_format_argument_list(allow_args)),\n\u001b[0;32m    328\u001b[0m         \u001b[39mFutureWarning\u001b[39;00m,\n\u001b[0;32m    329\u001b[0m         stacklevel\u001b[39m=\u001b[39mfind_stack_level(),\n\u001b[0;32m    330\u001b[0m     )\n\u001b[1;32m--> 331\u001b[0m \u001b[39mreturn\u001b[39;00m func(\u001b[39m*\u001b[39margs, \u001b[39m*\u001b[39m\u001b[39m*\u001b[39mkwargs)\n",
      "File \u001b[1;32m~\\AppData\\Local\\Packages\\PythonSoftwareFoundation.Python.3.9_qbz5n2kfra8p0\\LocalCache\\local-packages\\Python39\\site-packages\\pandas\\io\\parsers\\readers.py:950\u001b[0m, in \u001b[0;36mread_csv\u001b[1;34m(filepath_or_buffer, sep, delimiter, header, names, index_col, usecols, squeeze, prefix, mangle_dupe_cols, dtype, engine, converters, true_values, false_values, skipinitialspace, skiprows, skipfooter, nrows, na_values, keep_default_na, na_filter, verbose, skip_blank_lines, parse_dates, infer_datetime_format, keep_date_col, date_parser, dayfirst, cache_dates, iterator, chunksize, compression, thousands, decimal, lineterminator, quotechar, quoting, doublequote, escapechar, comment, encoding, encoding_errors, dialect, error_bad_lines, warn_bad_lines, on_bad_lines, delim_whitespace, low_memory, memory_map, float_precision, storage_options)\u001b[0m\n\u001b[0;32m    935\u001b[0m kwds_defaults \u001b[39m=\u001b[39m _refine_defaults_read(\n\u001b[0;32m    936\u001b[0m     dialect,\n\u001b[0;32m    937\u001b[0m     delimiter,\n\u001b[1;32m   (...)\u001b[0m\n\u001b[0;32m    946\u001b[0m     defaults\u001b[39m=\u001b[39m{\u001b[39m\"\u001b[39m\u001b[39mdelimiter\u001b[39m\u001b[39m\"\u001b[39m: \u001b[39m\"\u001b[39m\u001b[39m,\u001b[39m\u001b[39m\"\u001b[39m},\n\u001b[0;32m    947\u001b[0m )\n\u001b[0;32m    948\u001b[0m kwds\u001b[39m.\u001b[39mupdate(kwds_defaults)\n\u001b[1;32m--> 950\u001b[0m \u001b[39mreturn\u001b[39;00m _read(filepath_or_buffer, kwds)\n",
      "File \u001b[1;32m~\\AppData\\Local\\Packages\\PythonSoftwareFoundation.Python.3.9_qbz5n2kfra8p0\\LocalCache\\local-packages\\Python39\\site-packages\\pandas\\io\\parsers\\readers.py:611\u001b[0m, in \u001b[0;36m_read\u001b[1;34m(filepath_or_buffer, kwds)\u001b[0m\n\u001b[0;32m    608\u001b[0m     \u001b[39mreturn\u001b[39;00m parser\n\u001b[0;32m    610\u001b[0m \u001b[39mwith\u001b[39;00m parser:\n\u001b[1;32m--> 611\u001b[0m     \u001b[39mreturn\u001b[39;00m parser\u001b[39m.\u001b[39;49mread(nrows)\n",
      "File \u001b[1;32m~\\AppData\\Local\\Packages\\PythonSoftwareFoundation.Python.3.9_qbz5n2kfra8p0\\LocalCache\\local-packages\\Python39\\site-packages\\pandas\\io\\parsers\\readers.py:1778\u001b[0m, in \u001b[0;36mTextFileReader.read\u001b[1;34m(self, nrows)\u001b[0m\n\u001b[0;32m   1771\u001b[0m nrows \u001b[39m=\u001b[39m validate_integer(\u001b[39m\"\u001b[39m\u001b[39mnrows\u001b[39m\u001b[39m\"\u001b[39m, nrows)\n\u001b[0;32m   1772\u001b[0m \u001b[39mtry\u001b[39;00m:\n\u001b[0;32m   1773\u001b[0m     \u001b[39m# error: \"ParserBase\" has no attribute \"read\"\u001b[39;00m\n\u001b[0;32m   1774\u001b[0m     (\n\u001b[0;32m   1775\u001b[0m         index,\n\u001b[0;32m   1776\u001b[0m         columns,\n\u001b[0;32m   1777\u001b[0m         col_dict,\n\u001b[1;32m-> 1778\u001b[0m     ) \u001b[39m=\u001b[39m \u001b[39mself\u001b[39;49m\u001b[39m.\u001b[39;49m_engine\u001b[39m.\u001b[39;49mread(  \u001b[39m# type: ignore[attr-defined]\u001b[39;49;00m\n\u001b[0;32m   1779\u001b[0m         nrows\n\u001b[0;32m   1780\u001b[0m     )\n\u001b[0;32m   1781\u001b[0m \u001b[39mexcept\u001b[39;00m \u001b[39mException\u001b[39;00m:\n\u001b[0;32m   1782\u001b[0m     \u001b[39mself\u001b[39m\u001b[39m.\u001b[39mclose()\n",
      "File \u001b[1;32m~\\AppData\\Local\\Packages\\PythonSoftwareFoundation.Python.3.9_qbz5n2kfra8p0\\LocalCache\\local-packages\\Python39\\site-packages\\pandas\\io\\parsers\\c_parser_wrapper.py:230\u001b[0m, in \u001b[0;36mCParserWrapper.read\u001b[1;34m(self, nrows)\u001b[0m\n\u001b[0;32m    228\u001b[0m \u001b[39mtry\u001b[39;00m:\n\u001b[0;32m    229\u001b[0m     \u001b[39mif\u001b[39;00m \u001b[39mself\u001b[39m\u001b[39m.\u001b[39mlow_memory:\n\u001b[1;32m--> 230\u001b[0m         chunks \u001b[39m=\u001b[39m \u001b[39mself\u001b[39;49m\u001b[39m.\u001b[39;49m_reader\u001b[39m.\u001b[39;49mread_low_memory(nrows)\n\u001b[0;32m    231\u001b[0m         \u001b[39m# destructive to chunks\u001b[39;00m\n\u001b[0;32m    232\u001b[0m         data \u001b[39m=\u001b[39m _concatenate_chunks(chunks)\n",
      "File \u001b[1;32m~\\AppData\\Local\\Packages\\PythonSoftwareFoundation.Python.3.9_qbz5n2kfra8p0\\LocalCache\\local-packages\\Python39\\site-packages\\pandas\\_libs\\parsers.pyx:808\u001b[0m, in \u001b[0;36mpandas._libs.parsers.TextReader.read_low_memory\u001b[1;34m()\u001b[0m\n",
      "File \u001b[1;32m~\\AppData\\Local\\Packages\\PythonSoftwareFoundation.Python.3.9_qbz5n2kfra8p0\\LocalCache\\local-packages\\Python39\\site-packages\\pandas\\_libs\\parsers.pyx:890\u001b[0m, in \u001b[0;36mpandas._libs.parsers.TextReader._read_rows\u001b[1;34m()\u001b[0m\n",
      "File \u001b[1;32m~\\AppData\\Local\\Packages\\PythonSoftwareFoundation.Python.3.9_qbz5n2kfra8p0\\LocalCache\\local-packages\\Python39\\site-packages\\pandas\\_libs\\parsers.pyx:1037\u001b[0m, in \u001b[0;36mpandas._libs.parsers.TextReader._convert_column_data\u001b[1;34m()\u001b[0m\n",
      "File \u001b[1;32m~\\AppData\\Local\\Packages\\PythonSoftwareFoundation.Python.3.9_qbz5n2kfra8p0\\LocalCache\\local-packages\\Python39\\site-packages\\pandas\\_libs\\parsers.pyx:1083\u001b[0m, in \u001b[0;36mpandas._libs.parsers.TextReader._convert_tokens\u001b[1;34m()\u001b[0m\n",
      "File \u001b[1;32m~\\AppData\\Local\\Packages\\PythonSoftwareFoundation.Python.3.9_qbz5n2kfra8p0\\LocalCache\\local-packages\\Python39\\site-packages\\pandas\\_libs\\parsers.pyx:1158\u001b[0m, in \u001b[0;36mpandas._libs.parsers.TextReader._convert_with_dtype\u001b[1;34m()\u001b[0m\n",
      "File \u001b[1;32m~\\AppData\\Local\\Packages\\PythonSoftwareFoundation.Python.3.9_qbz5n2kfra8p0\\LocalCache\\local-packages\\Python39\\site-packages\\pandas\\core\\dtypes\\common.py:1433\u001b[0m, in \u001b[0;36mis_extension_array_dtype\u001b[1;34m(arr_or_dtype)\u001b[0m\n\u001b[0;32m   1424\u001b[0m     \u001b[39m# Note: if other EA dtypes are ever held in HybridBlock, exclude those\u001b[39;00m\n\u001b[0;32m   1425\u001b[0m     \u001b[39m#  here too.\u001b[39;00m\n\u001b[0;32m   1426\u001b[0m     \u001b[39m# NB: need to check DatetimeTZDtype and not is_datetime64tz_dtype\u001b[39;00m\n\u001b[0;32m   1427\u001b[0m     \u001b[39m#  to exclude ArrowTimestampUSDtype\u001b[39;00m\n\u001b[0;32m   1428\u001b[0m     \u001b[39mreturn\u001b[39;00m \u001b[39misinstance\u001b[39m(dtype, ExtensionDtype) \u001b[39mand\u001b[39;00m \u001b[39mnot\u001b[39;00m \u001b[39misinstance\u001b[39m(\n\u001b[0;32m   1429\u001b[0m         dtype, (DatetimeTZDtype, PeriodDtype)\n\u001b[0;32m   1430\u001b[0m     )\n\u001b[1;32m-> 1433\u001b[0m \u001b[39mdef\u001b[39;00m \u001b[39mis_extension_array_dtype\u001b[39m(arr_or_dtype) \u001b[39m-\u001b[39m\u001b[39m>\u001b[39m \u001b[39mbool\u001b[39m:\n\u001b[0;32m   1434\u001b[0m \u001b[39m    \u001b[39m\u001b[39m\"\"\"\u001b[39;00m\n\u001b[0;32m   1435\u001b[0m \u001b[39m    Check if an object is a pandas extension array type.\u001b[39;00m\n\u001b[0;32m   1436\u001b[0m \n\u001b[1;32m   (...)\u001b[0m\n\u001b[0;32m   1476\u001b[0m \u001b[39m    False\u001b[39;00m\n\u001b[0;32m   1477\u001b[0m \u001b[39m    \"\"\"\u001b[39;00m\n\u001b[0;32m   1478\u001b[0m     dtype \u001b[39m=\u001b[39m \u001b[39mgetattr\u001b[39m(arr_or_dtype, \u001b[39m\"\u001b[39m\u001b[39mdtype\u001b[39m\u001b[39m\"\u001b[39m, arr_or_dtype)\n",
      "\u001b[1;31mKeyboardInterrupt\u001b[0m: "
     ]
    }
   ],
   "source": [
    "alldata = pd.read_csv(r\"C:\\Users\\nial\\OneDrive\\Documents\\ETH-Zürich-DESKTOP-9E8KBS8\\AQ Data Collection\\alldata.csv\")"
   ]
  },
  {
   "cell_type": "code",
   "execution_count": 2,
   "metadata": {},
   "outputs": [],
   "source": [
    "data_cleaned_final = pd.read_csv(r\"C:\\Users\\nial\\OneDrive\\Documents\\ETH-Zürich-DESKTOP-9E8KBS8\\AQ Data Collection\\data_cleaned_final.csv\")"
   ]
  },
  {
   "attachments": {},
   "cell_type": "markdown",
   "metadata": {},
   "source": [
    "Shape of alldata to begin with:"
   ]
  },
  {
   "cell_type": "code",
   "execution_count": 4,
   "metadata": {},
   "outputs": [
    {
     "data": {
      "text/plain": [
       "(10546455, 29)"
      ]
     },
     "execution_count": 4,
     "metadata": {},
     "output_type": "execute_result"
    }
   ],
   "source": [
    "np.shape(alldata)"
   ]
  },
  {
   "attachments": {},
   "cell_type": "markdown",
   "metadata": {},
   "source": [
    "Shape of data_cleaned_final - the target"
   ]
  },
  {
   "cell_type": "code",
   "execution_count": 3,
   "metadata": {},
   "outputs": [
    {
     "data": {
      "text/plain": [
       "(2023786, 22)"
      ]
     },
     "execution_count": 3,
     "metadata": {},
     "output_type": "execute_result"
    }
   ],
   "source": [
    "np.shape(data_cleaned_final)"
   ]
  },
  {
   "attachments": {},
   "cell_type": "markdown",
   "metadata": {},
   "source": [
    "### Defining the functions"
   ]
  },
  {
   "cell_type": "code",
   "execution_count": 4,
   "metadata": {},
   "outputs": [],
   "source": [
    "def data_preprocessing(alldata):\n",
    "    \"\"\"\n",
    "    Preprocesses the sensor data\n",
    "\n",
    "    Inputs:\n",
    "    - alldata: a dataframe of all sensor readings\n",
    "\n",
    "    Outputs:\n",
    "    - alldata: the filtered dataframe\n",
    "    \"\"\"\n",
    "    # Selecting interesting variables\n",
    "    alldata = alldata[['Latitude', 'Longitude', 'PM2.5', 'Date', 'Time', 'Millis', 'device', 'Speed']]\n",
    "\n",
    "    # Remove duplicates\n",
    "    alldata = alldata.drop_duplicates()\n",
    "\n",
    "    # Renaming columns\n",
    "    alldata = alldata.rename(columns={'Latitude': 'lat', 'Longitude': 'lon', 'PM2.5': 'pm25'})\n",
    "\n",
    "    # Filter faulty measurements\n",
    "    alldata = alldata[alldata['Date'] != 0]\n",
    "    alldata = alldata[alldata['Time'] != 0]\n",
    "    alldata = alldata[alldata['lat'] != 0]\n",
    "    alldata = alldata[alldata['lon'] != 0]\n",
    "\n",
    "    # Correct latitude\n",
    "    alldata['lat'] = alldata['lat'] * (-1)\n",
    "\n",
    "    # Date stuff\n",
    "    alldata['Date_ft'] = pd.to_datetime(alldata['Date'], format=r\"%Y%m%d\").dt.date\n",
    "\n",
    "    # Time stuff\n",
    "    alldata['Time_ft'] = pd.to_datetime(alldata['Time'].apply(lambda x: str(x).zfill(6)), format='%H%M%S').dt.time.apply(lambda x: x.strftime('%H:%M:%S'))\n",
    "\n",
    "    # Filter dates between September 1 and September 20\n",
    "    alldata = alldata[(alldata['Date_ft'] >= datetime.strptime('2021-09-01', '%Y-%m-%d').date()) &\n",
    "                            (alldata['Date_ft'] <= datetime.strptime('2021-09-20', '%Y-%m-%d').date())]\n",
    "\n",
    "    # Create combined datetime column\n",
    "    alldata['datetime'] = pd.to_datetime(alldata['Date_ft'].astype(str) + ' ' + alldata['Time_ft'])\n",
    "    alldata['datetime'] = pd.to_datetime(alldata['datetime'], format=r\"%Y-%m-%d %H:%M:%S\")\n",
    "\n",
    "    # Pick the first observation per driver, Date, and Time\n",
    "    alldata = alldata.groupby(['device', 'Date', 'Time']).first().reset_index()\n",
    "    #slice(1) - pick first obs per group\n",
    "    #technically covered in first()\n",
    "    #ungroup() - actually covered by reset_index()\n",
    "\n",
    "    # Remove Millis column\n",
    "    alldata = alldata.drop(columns='Millis')\n",
    "\n",
    "    # Compute active drivers\n",
    "    alldata['count'] = alldata.groupby(['Date', 'Time'])['device'].transform('nunique')\n",
    "    #ungroup(); may not be necessary, though, if the above line has successfully grouped \n",
    "    #and aggregated in one go\n",
    "\n",
    "    # Compute trajectories\n",
    "    #group_by(device)\n",
    "    alldata = alldata.sort_values(['datetime', 'device'], ascending=[True, True])\n",
    "    alldata['time_diff'] = alldata['datetime'].diff().dt.total_seconds()\n",
    "    alldata['trajectory_id'] = ((alldata['time_diff'] > 30) | (alldata['time_diff'].isna())).cumsum()\n",
    "    #ungroup()\n",
    "\n",
    "    # Filter conditions\n",
    "    alldata = alldata[alldata['Speed'] != 0]\n",
    "    alldata = alldata[alldata['pm25'] <= 500]\n",
    "    alldata = alldata[(alldata['lat'] >= -2.16) & (alldata['lat'] <= -1.85)]\n",
    "    alldata = alldata[(alldata['lon'] >= 29.9) & (alldata['lon'] <= 30.25)]\n",
    "\n",
    "    # Perform rolling_detrend(), aggregate_squares(), and get_location_characteristics() operations\n",
    "    #alldata = rolling_detrend(alldata)\n",
    "    #alldata = aggregate_squares(alldata)\n",
    "    #alldata = get_location_characteristics(alldata)\n",
    "\n",
    "    # Return the resulting DataFrame\n",
    "    return alldata"
   ]
  },
  {
   "cell_type": "code",
   "execution_count": 5,
   "metadata": {},
   "outputs": [],
   "source": [
    "def rolling_detrend(df, func=pd.Series.median):\n",
    "    \"\"\"\n",
    "    Construct detrending function that uses rolling median or average over previous 15 min and 1 day,\n",
    "    and then computes detrended value by subtracting the average of the two.\n",
    "    \n",
    "    Inputs:\n",
    "    - df: dataframe pre-processed using data_preprocessing() function\n",
    "    - func: summary function for baseline. Default: median (callable)\n",
    "    \n",
    "    Returns:\n",
    "    - df: data set with 15 min baseline, 1 hr baseline, and detrended pm2.5 (by 15 min, 1 day, and average of the two)\n",
    "    \"\"\"\n",
    "    \n",
    "    # Sort DataFrame by datetime\n",
    "    df = df.sort_values('datetime')\n",
    "    df = df.set_index('datetime')\n",
    "    \n",
    "    # Calculate rolling baseline using specified function\n",
    "    df['baseline_15'] = df['pm25'].rolling(window='15T', min_periods=1).apply(func) #check that this has the same logic as Sanelma's function\n",
    "    print(\"Baseline 15 calculated\")\n",
    "    df['baseline_day'] = df['pm25'].rolling(window='1D', min_periods=1).apply(func) #likewise\n",
    "    print(\"Baseline day calculated\")\n",
    "\n",
    "    # Compute detrended pm2.5 values\n",
    "    df['pm25_detrended_15'] = df['pm25'] - df['baseline_15']\n",
    "    df['pm25_detrended_day'] = df['pm25'] - df['baseline_day']\n",
    "    df['pm25_detrended_comb'] = df['pm25'] - 0.5 * (df['baseline_15'] + df['baseline_day'])\n",
    "    \n",
    "    return df"
   ]
  },
  {
   "cell_type": "code",
   "execution_count": 6,
   "metadata": {},
   "outputs": [],
   "source": [
    "def aggregate_squares(df, length=200):\n",
    "    \"\"\"\n",
    "    Function to assign a tile_id to each observation, in case we want to use data aggregated geographically.\n",
    "    Tiles are squares of size that can be inputted.\n",
    "    \n",
    "    Inputs:\n",
    "    - df: dataframe pre-processed using data_preprocessing() function\n",
    "    - length: side length of square for aggregation, in meters. Defaults to 200\n",
    "    \n",
    "    Returns:\n",
    "    - df: data set with additional variables of tile_id - the geographic tile in which the observation lies\n",
    "    \"\"\"\n",
    "    \n",
    "    # Convert to GeoDataFrame\n",
    "    geometry = [Point(xy) for xy in zip(df['lon'], df['lat'])]\n",
    "    df_geo = gpd.GeoDataFrame(df, geometry=geometry)\n",
    "    \n",
    "    # Set coordinate reference system to EPSG:4326\n",
    "    df_geo.crs = CRS.from_epsg(4326).to_wkt()\n",
    "    \n",
    "    # Transform coordinate reference system to measure in meters\n",
    "    df_geo = df_geo.to_crs(7801)\n",
    "    \n",
    "    # Create polygon grid\n",
    "    #my_grid = gpd.sjoin(df_geo, gpd.GeoDataFrame(geometry=gpd.GeoSeries(df_geo.unary_union).buffer(length)))\n",
    "    min_lon, max_lon, min_lat, max_lat = min(df[\"lon\"]), max(df[\"lon\"]), min(df[\"lat\"]), max(df[\"lat\"])\n",
    "\n",
    "    num_points_lat = int(distance(geopy.Point((min_lat, min_lon)), geopy.Point((max_lat, min_lon))).m / length) + 1\n",
    "    num_points_lon = int(distance(geopy.Point((min_lat, min_lon)), geopy.Point((min_lat, max_lon))).m / length) + 1\n",
    "\n",
    "    cols = list(np.linspace(min_lon, max_lon, num_points_lon))\n",
    "    rows = list(np.linspace(min_lat, max_lat, num_points_lat))\n",
    "\n",
    "    print(\"cols has {} elements and rows has {}\".format(len(cols), len(rows)))\n",
    "\n",
    "    polygons = []\n",
    "    \n",
    "    for i in range(num_points_lon-1):\n",
    "        for j in range(num_points_lat-1):\n",
    "            x, x_next = cols[i], cols[i+1]\n",
    "            y, y_next = rows[j], rows[j+1]\n",
    "            polygons.append(Polygon([(x,y), (x_next,y), (x_next, y_next), (x, y_next)]))\n",
    "\n",
    "    print(len(polygons))\n",
    "\n",
    "    grid = gpd.GeoDataFrame({'geometry':polygons})\n",
    "    grid.crs = CRS.from_epsg(4326).to_wkt()\n",
    "    grid = grid.to_crs(7801)\n",
    "    \n",
    "    #Get the id of the tile containing every point\n",
    "    joined = gpd.sjoin(df_geo, grid, how='left', op='within')\n",
    "    polygon_indices = joined.index_right\n",
    "    \n",
    "    # Transform back to the original coordinate system\n",
    "    #my_grid = my_grid.to_crs(4326)\n",
    "    #df_geo = df_geo.to_crs(4326)\n",
    "\n",
    "    # Get tile_id\n",
    "    df['tile_id'] = polygon_indices\n",
    "    \n",
    "    return df"
   ]
  },
  {
   "cell_type": "code",
   "execution_count": 7,
   "metadata": {},
   "outputs": [],
   "source": [
    "def get_location_characteristics(df):\n",
    "    \"\"\"\n",
    "    Adds industrial area and road type classifications to measurement locations\n",
    "    \n",
    "    Inputs:\n",
    "    - df: dataframe pre-processed using data_preprocessing() function\n",
    "    \n",
    "    Returns:\n",
    "    - df: data set with additional binary variables of industrial, major.road, and res.road,\n",
    "      which indicate whether the measurement is from an industrial area, from a major road, or from a residential area.\n",
    "      landuse and road characteristics as defined from open street map data\n",
    "      major roads are all of the following osm labels: \n",
    "      primary, primary_link, trunk, trunk_link, secondary, secondary_link, tertiary, tertiary_link, unclassified\n",
    "    \"\"\"\n",
    "    \n",
    "    # Query industrial landuse data\n",
    "    kigali_industrial = ox.geometries_from_place('Kigali', tags={'landuse': 'industrial'}).reset_index()\n",
    "    \n",
    "    # Query road data\n",
    "    kigali_roads = ox.geometries_from_place('Kigali', tags={'highway': True}).reset_index()\n",
    "    \n",
    "    # Extract road types\n",
    "    #this should actually create two columns: residential, and through_road\n",
    "    #both binary: 1 if point is on a residential road, 0 if not\n",
    "    #likewise for through_road\n",
    "    res_roads = kigali_roads[lambda gdf: gdf['highway'].isin(['residential', 'living_street'])]\n",
    "    major_roads = kigali_roads[lambda gdf: gdf['highway'].isin(['primary', 'primary_link','trunk'\n",
    "    , 'trunk_link', 'secondary','secondary_link', 'tertiary', 'tertiary_link', 'unclassified'])]\n",
    "    \n",
    "    # Add variable for whether in an industrial zone or not\n",
    "    df_geo = gpd.GeoDataFrame(df, geometry=gpd.points_from_xy(df['lon'], df['lat']))\n",
    "    df_geo.crs = kigali_industrial.crs\n",
    "    df['industrial'] = df_geo.intersects(kigali_industrial.unary_union).astype(int)\n",
    "    \n",
    "    # Add variable for whether on a major road or not\n",
    "    #major_roads = kigali_roads[is_through_road].copy()\n",
    "    #major.roads$geometry_trans <- st_transform(major.roads$geometry, crs = 7801) \n",
    "    #- change CRS to 7801 to measure distance in metres\n",
    "    #may not be necessary with the automated buffer() function\n",
    "    major_roads['buffer'] = major_roads.geometry.buffer(5)  # 5 meter buffer\n",
    "    #major_roads = major_roads.to_crs(4326) #not needed if CRS 7801 not needed\n",
    "    df['major.road'] = df_geo.intersects(major_roads.geometry.buffer(0)).astype(int)\n",
    "    #the above is a dummy variable: 1 if the point is within a buffer of a major road, 0 otherwise\n",
    "    \n",
    "    # Add variable for residential roads\n",
    "    #res_roads = kigali_roads[is_res_road].copy()\n",
    "    #- change CRS to 7801 to measure distance in metres\n",
    "    #may not be necessary with the automated buffer() function\n",
    "    res_roads['buffer'] = res_roads.geometry.buffer(3)  # 3 meter buffer\n",
    "    #res_roads = res_roads.to_crs(4326) #not needed if CRS 7801 not needed\n",
    "    df['res.road'] = df_geo.intersects(res_roads.geometry.buffer(0)).astype(int)\n",
    "    #above should also be a dummy variable\n",
    "\n",
    "    return df\n"
   ]
  },
  {
   "attachments": {},
   "cell_type": "markdown",
   "metadata": {},
   "source": [
    "### Testing!"
   ]
  },
  {
   "cell_type": "code",
   "execution_count": 16,
   "metadata": {},
   "outputs": [],
   "source": [
    "data_cleaned = data_preprocessing(alldata)\n",
    "data_cleaned.to_csv(r\"C:\\Users\\nial\\OneDrive\\Documents\\ETH-Zürich-DESKTOP-9E8KBS8\\AQ Data Collection\\data_cleaned.csv\")\n",
    "#data_cleaned = pd.read_csv(r\"C:\\Users\\nial\\OneDrive\\Documents\\ETH-Zürich-DESKTOP-9E8KBS8\\AQ Data Collection\\data_cleaned.csv\")"
   ]
  },
  {
   "cell_type": "code",
   "execution_count": 17,
   "metadata": {},
   "outputs": [
    {
     "name": "stdout",
     "output_type": "stream",
     "text": [
      "Baseline 15 calculated\n",
      "Baseline day calculated\n"
     ]
    }
   ],
   "source": [
    "data_cleaned_rolled = rolling_detrend(data_cleaned)"
   ]
  },
  {
   "cell_type": "code",
   "execution_count": 5,
   "metadata": {},
   "outputs": [],
   "source": [
    "#data_cleaned_rolled.to_csv(r\"C:\\Users\\nial\\OneDrive\\Documents\\ETH-Zürich-DESKTOP-9E8KBS8\\AQ Data Collection\\data_cleaned_rolled.csv\")\n",
    "data_cleaned_rolled = pd.read_csv(r\"C:\\Users\\nial\\OneDrive\\Documents\\ETH-Zürich-DESKTOP-9E8KBS8\\AQ Data Collection\\data_cleaned_rolled.csv\")"
   ]
  },
  {
   "cell_type": "code",
   "execution_count": 8,
   "metadata": {},
   "outputs": [],
   "source": [
    "subset = data_cleaned_rolled.sample(n=100000)"
   ]
  },
  {
   "cell_type": "code",
   "execution_count": 10,
   "metadata": {},
   "outputs": [
    {
     "name": "stdout",
     "output_type": "stream",
     "text": [
      "cols has 195 elements and rows has 171\n",
      "32980\n"
     ]
    },
    {
     "name": "stderr",
     "output_type": "stream",
     "text": [
      "C:\\Users\\nial\\AppData\\Local\\Packages\\PythonSoftwareFoundation.Python.3.9_qbz5n2kfra8p0\\LocalCache\\local-packages\\Python39\\site-packages\\IPython\\core\\interactiveshell.py:3505: FutureWarning: The `op` parameter is deprecated and will be removed in a future release. Please use the `predicate` parameter instead.\n",
      "  exec(code_obj, self.user_global_ns, self.user_ns)\n"
     ]
    }
   ],
   "source": [
    "data_aggregated = aggregate_squares(data_cleaned_rolled)"
   ]
  },
  {
   "cell_type": "code",
   "execution_count": 8,
   "metadata": {},
   "outputs": [],
   "source": [
    "#data_aggregated.to_csv(r\"C:\\Users\\nial\\OneDrive\\Documents\\ETH-Zürich-DESKTOP-9E8KBS8\\AQ Data Collection\\data_aggregated.csv\")\n",
    "data_aggregated = pd.read_csv(r\"C:\\Users\\nial\\OneDrive\\Documents\\ETH-Zürich-DESKTOP-9E8KBS8\\AQ Data Collection\\data_cleaned_rolled.csv\")"
   ]
  },
  {
   "cell_type": "code",
   "execution_count": 18,
   "metadata": {},
   "outputs": [],
   "source": [
    "df_geo = gpd.GeoDataFrame(data_aggregated, geometry=gpd.points_from_xy(data_aggregated['lon'], data_aggregated['lat']))"
   ]
  },
  {
   "cell_type": "code",
   "execution_count": 71,
   "metadata": {},
   "outputs": [
    {
     "name": "stderr",
     "output_type": "stream",
     "text": [
      "C:\\Users\\nial\\AppData\\Local\\Packages\\PythonSoftwareFoundation.Python.3.9_qbz5n2kfra8p0\\LocalCache\\local-packages\\Python39\\site-packages\\IPython\\core\\interactiveshell.py:3445: FutureWarning: The `op` parameter is deprecated and will be removed in a future release. Please use the `predicate` parameter instead.\n",
      "  if await self.run_code(code, result, async_=asy):\n"
     ]
    }
   ],
   "source": [
    "df_geo_with_industrial = gpd.sjoin(df_geo, kigali_industrial, how=\"left\", op=\"within\")\n",
    "df_geo_with_industrial['Industrial'] = df_geo_with_industrial['index_right'].notnull()"
   ]
  },
  {
   "cell_type": "code",
   "execution_count": 74,
   "metadata": {},
   "outputs": [],
   "source": [
    "  major_roads = kigali_roads[lambda gdf: gdf['highway'].isin(['primary', 'primary_link','trunk'\n",
    "    , 'trunk_link', 'secondary','secondary_link', 'tertiary', 'tertiary_link', 'unclassified'])]\n",
    "    "
   ]
  },
  {
   "cell_type": "code",
   "execution_count": 88,
   "metadata": {},
   "outputs": [],
   "source": [
    "major_roads.crs = 7801"
   ]
  },
  {
   "cell_type": "code",
   "execution_count": 87,
   "metadata": {},
   "outputs": [
    {
     "name": "stderr",
     "output_type": "stream",
     "text": [
      "C:\\Users\\nial\\AppData\\Local\\Packages\\PythonSoftwareFoundation.Python.3.9_qbz5n2kfra8p0\\LocalCache\\local-packages\\Python39\\site-packages\\geopandas\\geodataframe.py:1538: SettingWithCopyWarning: \n",
      "A value is trying to be set on a copy of a slice from a DataFrame.\n",
      "Try using .loc[row_indexer,col_indexer] = value instead\n",
      "\n",
      "See the caveats in the documentation: https://pandas.pydata.org/pandas-docs/stable/user_guide/indexing.html#returning-a-view-versus-a-copy\n",
      "  super().__setitem__(key, value)\n"
     ]
    }
   ],
   "source": [
    "major_roads['buffer'] = major_roads.geometry.buffer(10)"
   ]
  },
  {
   "cell_type": "code",
   "execution_count": 90,
   "metadata": {},
   "outputs": [
    {
     "data": {
      "text/html": [
       "<div>\n",
       "<style scoped>\n",
       "    .dataframe tbody tr th:only-of-type {\n",
       "        vertical-align: middle;\n",
       "    }\n",
       "\n",
       "    .dataframe tbody tr th {\n",
       "        vertical-align: top;\n",
       "    }\n",
       "\n",
       "    .dataframe thead th {\n",
       "        text-align: right;\n",
       "    }\n",
       "</style>\n",
       "<table border=\"1\" class=\"dataframe\">\n",
       "  <thead>\n",
       "    <tr style=\"text-align: right;\">\n",
       "      <th></th>\n",
       "      <th>element_type</th>\n",
       "      <th>osmid</th>\n",
       "      <th>highway</th>\n",
       "      <th>traffic_signals</th>\n",
       "      <th>geometry</th>\n",
       "      <th>sidewalk:right</th>\n",
       "      <th>surface</th>\n",
       "      <th>name</th>\n",
       "      <th>bus</th>\n",
       "      <th>public_transport</th>\n",
       "      <th>...</th>\n",
       "      <th>area</th>\n",
       "      <th>tunnel</th>\n",
       "      <th>maxspeed:forward</th>\n",
       "      <th>description</th>\n",
       "      <th>noname</th>\n",
       "      <th>sidewalk:both</th>\n",
       "      <th>junction:ref</th>\n",
       "      <th>covered</th>\n",
       "      <th>destination:lang</th>\n",
       "      <th>buffer</th>\n",
       "    </tr>\n",
       "  </thead>\n",
       "  <tbody>\n",
       "    <tr>\n",
       "      <th>169</th>\n",
       "      <td>way</td>\n",
       "      <td>25796127</td>\n",
       "      <td>secondary</td>\n",
       "      <td>NaN</td>\n",
       "      <td>LINESTRING (30.061 -1.944, 30.061 -1.945, 30.0...</td>\n",
       "      <td>NaN</td>\n",
       "      <td>asphalt</td>\n",
       "      <td>KN 4 Avenue</td>\n",
       "      <td>NaN</td>\n",
       "      <td>NaN</td>\n",
       "      <td>...</td>\n",
       "      <td>NaN</td>\n",
       "      <td>NaN</td>\n",
       "      <td>NaN</td>\n",
       "      <td>NaN</td>\n",
       "      <td>NaN</td>\n",
       "      <td>NaN</td>\n",
       "      <td>NaN</td>\n",
       "      <td>NaN</td>\n",
       "      <td>NaN</td>\n",
       "      <td>POLYGON ((21.911 3.848, 22.664 4.785, 22.664 4...</td>\n",
       "    </tr>\n",
       "    <tr>\n",
       "      <th>170</th>\n",
       "      <td>way</td>\n",
       "      <td>25796130</td>\n",
       "      <td>trunk</td>\n",
       "      <td>NaN</td>\n",
       "      <td>LINESTRING (30.062 -1.944, 30.062 -1.943, 30.0...</td>\n",
       "      <td>yes</td>\n",
       "      <td>paved</td>\n",
       "      <td>KN 1 Road</td>\n",
       "      <td>NaN</td>\n",
       "      <td>NaN</td>\n",
       "      <td>...</td>\n",
       "      <td>NaN</td>\n",
       "      <td>NaN</td>\n",
       "      <td>NaN</td>\n",
       "      <td>NaN</td>\n",
       "      <td>NaN</td>\n",
       "      <td>NaN</td>\n",
       "      <td>NaN</td>\n",
       "      <td>NaN</td>\n",
       "      <td>NaN</td>\n",
       "      <td>POLYGON ((20.063 -1.846, 20.067 -1.846, 20.090...</td>\n",
       "    </tr>\n",
       "    <tr>\n",
       "      <th>173</th>\n",
       "      <td>way</td>\n",
       "      <td>25796141</td>\n",
       "      <td>trunk</td>\n",
       "      <td>NaN</td>\n",
       "      <td>LINESTRING (30.062 -1.944, 30.062 -1.944, 30.0...</td>\n",
       "      <td>NaN</td>\n",
       "      <td>NaN</td>\n",
       "      <td>NaN</td>\n",
       "      <td>NaN</td>\n",
       "      <td>NaN</td>\n",
       "      <td>...</td>\n",
       "      <td>NaN</td>\n",
       "      <td>NaN</td>\n",
       "      <td>NaN</td>\n",
       "      <td>NaN</td>\n",
       "      <td>NaN</td>\n",
       "      <td>NaN</td>\n",
       "      <td>NaN</td>\n",
       "      <td>NaN</td>\n",
       "      <td>NaN</td>\n",
       "      <td>MULTIPOLYGON (((24.257 -10.075, 23.689 -9.650,...</td>\n",
       "    </tr>\n",
       "    <tr>\n",
       "      <th>174</th>\n",
       "      <td>way</td>\n",
       "      <td>25796146</td>\n",
       "      <td>trunk</td>\n",
       "      <td>NaN</td>\n",
       "      <td>LINESTRING (30.062 -1.944, 30.062 -1.944, 30.0...</td>\n",
       "      <td>yes</td>\n",
       "      <td>asphalt</td>\n",
       "      <td>Place de l'Unité Nationale</td>\n",
       "      <td>NaN</td>\n",
       "      <td>NaN</td>\n",
       "      <td>...</td>\n",
       "      <td>NaN</td>\n",
       "      <td>NaN</td>\n",
       "      <td>NaN</td>\n",
       "      <td>NaN</td>\n",
       "      <td>NaN</td>\n",
       "      <td>NaN</td>\n",
       "      <td>NaN</td>\n",
       "      <td>NaN</td>\n",
       "      <td>NaN</td>\n",
       "      <td>POLYGON ((20.064 -2.040, 20.062 -2.008, 20.083...</td>\n",
       "    </tr>\n",
       "    <tr>\n",
       "      <th>177</th>\n",
       "      <td>way</td>\n",
       "      <td>25796162</td>\n",
       "      <td>unclassified</td>\n",
       "      <td>NaN</td>\n",
       "      <td>LINESTRING (30.062 -1.949, 30.062 -1.949)</td>\n",
       "      <td>NaN</td>\n",
       "      <td>NaN</td>\n",
       "      <td>NaN</td>\n",
       "      <td>NaN</td>\n",
       "      <td>NaN</td>\n",
       "      <td>...</td>\n",
       "      <td>NaN</td>\n",
       "      <td>NaN</td>\n",
       "      <td>NaN</td>\n",
       "      <td>NaN</td>\n",
       "      <td>NaN</td>\n",
       "      <td>NaN</td>\n",
       "      <td>NaN</td>\n",
       "      <td>NaN</td>\n",
       "      <td>NaN</td>\n",
       "      <td>POLYGON ((30.558 -11.936, 29.577 -11.937, 28.6...</td>\n",
       "    </tr>\n",
       "  </tbody>\n",
       "</table>\n",
       "<p>5 rows × 70 columns</p>\n",
       "</div>"
      ],
      "text/plain": [
       "    element_type     osmid       highway traffic_signals  \\\n",
       "169          way  25796127     secondary             NaN   \n",
       "170          way  25796130         trunk             NaN   \n",
       "173          way  25796141         trunk             NaN   \n",
       "174          way  25796146         trunk             NaN   \n",
       "177          way  25796162  unclassified             NaN   \n",
       "\n",
       "                                              geometry sidewalk:right  \\\n",
       "169  LINESTRING (30.061 -1.944, 30.061 -1.945, 30.0...            NaN   \n",
       "170  LINESTRING (30.062 -1.944, 30.062 -1.943, 30.0...            yes   \n",
       "173  LINESTRING (30.062 -1.944, 30.062 -1.944, 30.0...            NaN   \n",
       "174  LINESTRING (30.062 -1.944, 30.062 -1.944, 30.0...            yes   \n",
       "177          LINESTRING (30.062 -1.949, 30.062 -1.949)            NaN   \n",
       "\n",
       "     surface                        name  bus public_transport  ... area  \\\n",
       "169  asphalt                 KN 4 Avenue  NaN              NaN  ...  NaN   \n",
       "170    paved                   KN 1 Road  NaN              NaN  ...  NaN   \n",
       "173      NaN                         NaN  NaN              NaN  ...  NaN   \n",
       "174  asphalt  Place de l'Unité Nationale  NaN              NaN  ...  NaN   \n",
       "177      NaN                         NaN  NaN              NaN  ...  NaN   \n",
       "\n",
       "    tunnel maxspeed:forward description noname sidewalk:both junction:ref  \\\n",
       "169    NaN              NaN         NaN    NaN           NaN          NaN   \n",
       "170    NaN              NaN         NaN    NaN           NaN          NaN   \n",
       "173    NaN              NaN         NaN    NaN           NaN          NaN   \n",
       "174    NaN              NaN         NaN    NaN           NaN          NaN   \n",
       "177    NaN              NaN         NaN    NaN           NaN          NaN   \n",
       "\n",
       "    covered destination:lang  \\\n",
       "169     NaN              NaN   \n",
       "170     NaN              NaN   \n",
       "173     NaN              NaN   \n",
       "174     NaN              NaN   \n",
       "177     NaN              NaN   \n",
       "\n",
       "                                                buffer  \n",
       "169  POLYGON ((21.911 3.848, 22.664 4.785, 22.664 4...  \n",
       "170  POLYGON ((20.063 -1.846, 20.067 -1.846, 20.090...  \n",
       "173  MULTIPOLYGON (((24.257 -10.075, 23.689 -9.650,...  \n",
       "174  POLYGON ((20.064 -2.040, 20.062 -2.008, 20.083...  \n",
       "177  POLYGON ((30.558 -11.936, 29.577 -11.937, 28.6...  \n",
       "\n",
       "[5 rows x 70 columns]"
      ]
     },
     "execution_count": 90,
     "metadata": {},
     "output_type": "execute_result"
    }
   ],
   "source": [
    "major_roads.head()"
   ]
  },
  {
   "cell_type": "code",
   "execution_count": 89,
   "metadata": {},
   "outputs": [
    {
     "name": "stderr",
     "output_type": "stream",
     "text": [
      "C:\\Users\\nial\\AppData\\Local\\Packages\\PythonSoftwareFoundation.Python.3.9_qbz5n2kfra8p0\\LocalCache\\local-packages\\Python39\\site-packages\\geopandas\\base.py:31: UserWarning: The indices of the two GeoSeries are different.\n",
      "  warn(\"The indices of the two GeoSeries are different.\")\n"
     ]
    },
    {
     "data": {
      "text/plain": [
       "485"
      ]
     },
     "execution_count": 89,
     "metadata": {},
     "output_type": "execute_result"
    }
   ],
   "source": [
    "df_geo.crs = major_roads.crs\n",
    "df_geo.intersects(major_roads[\"buffer\"]).astype(int).sum()"
   ]
  },
  {
   "cell_type": "code",
   "execution_count": 73,
   "metadata": {},
   "outputs": [
    {
     "data": {
      "text/plain": [
       "0"
      ]
     },
     "execution_count": 73,
     "metadata": {},
     "output_type": "execute_result"
    }
   ],
   "source": [
    "df_geo_with_industrial[\"industrial\"].sum()"
   ]
  },
  {
   "cell_type": "code",
   "execution_count": 70,
   "metadata": {},
   "outputs": [
    {
     "data": {
      "text/plain": [
       "2106"
      ]
     },
     "execution_count": 70,
     "metadata": {},
     "output_type": "execute_result"
    }
   ],
   "source": [
    "data_cleaned_final[\"industrial\"].sum()"
   ]
  },
  {
   "cell_type": "code",
   "execution_count": 55,
   "metadata": {},
   "outputs": [
    {
     "data": {
      "text/plain": [
       "0"
      ]
     },
     "execution_count": 55,
     "metadata": {},
     "output_type": "execute_result"
    }
   ],
   "source": [
    "df_geo.within(kigali_industrial.unary_union).sum()"
   ]
  },
  {
   "cell_type": "code",
   "execution_count": 45,
   "metadata": {},
   "outputs": [
    {
     "data": {
      "text/plain": [
       "0    False\n",
       "1    False\n",
       "dtype: bool"
      ]
     },
     "execution_count": 45,
     "metadata": {},
     "output_type": "execute_result"
    }
   ],
   "source": [
    "kigali_industrial.intersects(Point(30.04568,-1.94432))"
   ]
  },
  {
   "cell_type": "code",
   "execution_count": 41,
   "metadata": {},
   "outputs": [],
   "source": [
    "kigali_industrial.crs = 4326"
   ]
  },
  {
   "cell_type": "code",
   "execution_count": 31,
   "metadata": {},
   "outputs": [],
   "source": [
    "df_geo.crs = kigali_industrial.crs"
   ]
  },
  {
   "cell_type": "code",
   "execution_count": 29,
   "metadata": {},
   "outputs": [
    {
     "data": {
      "text/plain": [
       "0"
      ]
     },
     "execution_count": 29,
     "metadata": {},
     "output_type": "execute_result"
    }
   ],
   "source": [
    "df_geo.intersects(kigali_industrial.unary_union).astype(int).sum()"
   ]
  },
  {
   "cell_type": "code",
   "execution_count": 20,
   "metadata": {},
   "outputs": [
    {
     "data": {
      "text/plain": [
       "RangeIndex(start=0, stop=2, step=1)"
      ]
     },
     "execution_count": 20,
     "metadata": {},
     "output_type": "execute_result"
    }
   ],
   "source": [
    "kigali_industrial.index"
   ]
  },
  {
   "cell_type": "code",
   "execution_count": 16,
   "metadata": {},
   "outputs": [],
   "source": [
    "kigali_industrial = ox.geometries_from_place('Kigali', tags={'landuse': 'industrial'}).reset_index()\n",
    "    \n",
    "# Query road data\n",
    "kigali_roads = ox.geometries_from_place('Kigali', tags={'highway': True}).reset_index()"
   ]
  },
  {
   "cell_type": "code",
   "execution_count": 17,
   "metadata": {},
   "outputs": [
    {
     "data": {
      "image/svg+xml": [
       "<svg xmlns=\"http://www.w3.org/2000/svg\" xmlns:xlink=\"http://www.w3.org/1999/xlink\" width=\"100.0\" height=\"100.0\" viewBox=\"29.99973654 -1.94714736 0.049068720000001065 0.00775481999999994\" preserveAspectRatio=\"xMinYMin meet\"><g transform=\"matrix(1,0,0,-1,0,-3.8865399)\"><g><path fill-rule=\"evenodd\" fill=\"#66cc99\" stroke=\"#555555\" stroke-width=\"0.0009813744000000213\" opacity=\"0.6\" d=\"M 30.0459123,-1.9443355 L 30.0464568,-1.9442846 L 30.0468109,-1.9443784 L 30.0469316,-1.944499 L 30.0469879,-1.9447108 L 30.0469477,-1.9448823 L 30.0466875,-1.9452094 L 30.0465829,-1.945271 L 30.0463361,-1.94533 L 30.0459928,-1.945322 L 30.0458962,-1.9452576 L 30.0457997,-1.9450056 L 30.0457058,-1.9445982 L 30.0456763,-1.9443328 L 30.0459123,-1.9443355 z\" /><path fill-rule=\"evenodd\" fill=\"#66cc99\" stroke=\"#555555\" stroke-width=\"0.0009813744000000213\" opacity=\"0.6\" d=\"M 30.0036943,-1.9432043 L 30.0015539,-1.9417675 L 30.0021332,-1.9412099 L 30.0026777,-1.9414672 L 30.0032517,-1.9415208 L 30.0035468,-1.9417541 L 30.0038472,-1.9418532 L 30.0042763,-1.9424966 L 30.0045687,-1.9429175 L 30.0048503,-1.9434643 L 30.004794,-1.9436734 L 30.0036943,-1.9432043 z\" /></g></g></svg>"
      ],
      "text/plain": [
       "<MULTIPOLYGON (((30.046 -1.944, 30.046 -1.944, 30.047 -1.944, 30.047 -1.944,...>"
      ]
     },
     "execution_count": 17,
     "metadata": {},
     "output_type": "execute_result"
    }
   ],
   "source": [
    "kigali_industrial.unary_union"
   ]
  },
  {
   "cell_type": "code",
   "execution_count": 8,
   "metadata": {},
   "outputs": [
    {
     "data": {
      "text/html": [
       "<div>\n",
       "<style scoped>\n",
       "    .dataframe tbody tr th:only-of-type {\n",
       "        vertical-align: middle;\n",
       "    }\n",
       "\n",
       "    .dataframe tbody tr th {\n",
       "        vertical-align: top;\n",
       "    }\n",
       "\n",
       "    .dataframe thead th {\n",
       "        text-align: right;\n",
       "    }\n",
       "</style>\n",
       "<table border=\"1\" class=\"dataframe\">\n",
       "  <thead>\n",
       "    <tr style=\"text-align: right;\">\n",
       "      <th></th>\n",
       "      <th>element_type</th>\n",
       "      <th>osmid</th>\n",
       "      <th>highway</th>\n",
       "      <th>traffic_signals</th>\n",
       "      <th>geometry</th>\n",
       "      <th>sidewalk:right</th>\n",
       "      <th>surface</th>\n",
       "      <th>name</th>\n",
       "      <th>bus</th>\n",
       "      <th>public_transport</th>\n",
       "      <th>...</th>\n",
       "      <th>footway</th>\n",
       "      <th>area</th>\n",
       "      <th>tunnel</th>\n",
       "      <th>maxspeed:forward</th>\n",
       "      <th>description</th>\n",
       "      <th>noname</th>\n",
       "      <th>sidewalk:both</th>\n",
       "      <th>junction:ref</th>\n",
       "      <th>covered</th>\n",
       "      <th>destination:lang</th>\n",
       "    </tr>\n",
       "  </thead>\n",
       "  <tbody>\n",
       "    <tr>\n",
       "      <th>0</th>\n",
       "      <td>node</td>\n",
       "      <td>279245303</td>\n",
       "      <td>traffic_signals</td>\n",
       "      <td>signal</td>\n",
       "      <td>POINT (30.05672 -1.93932)</td>\n",
       "      <td>NaN</td>\n",
       "      <td>NaN</td>\n",
       "      <td>NaN</td>\n",
       "      <td>NaN</td>\n",
       "      <td>NaN</td>\n",
       "      <td>...</td>\n",
       "      <td>NaN</td>\n",
       "      <td>NaN</td>\n",
       "      <td>NaN</td>\n",
       "      <td>NaN</td>\n",
       "      <td>NaN</td>\n",
       "      <td>NaN</td>\n",
       "      <td>NaN</td>\n",
       "      <td>NaN</td>\n",
       "      <td>NaN</td>\n",
       "      <td>NaN</td>\n",
       "    </tr>\n",
       "    <tr>\n",
       "      <th>1</th>\n",
       "      <td>node</td>\n",
       "      <td>317706734</td>\n",
       "      <td>bus_stop</td>\n",
       "      <td>NaN</td>\n",
       "      <td>POINT (30.06087 -1.94326)</td>\n",
       "      <td>NaN</td>\n",
       "      <td>NaN</td>\n",
       "      <td>NaN</td>\n",
       "      <td>yes</td>\n",
       "      <td>platform</td>\n",
       "      <td>...</td>\n",
       "      <td>NaN</td>\n",
       "      <td>NaN</td>\n",
       "      <td>NaN</td>\n",
       "      <td>NaN</td>\n",
       "      <td>NaN</td>\n",
       "      <td>NaN</td>\n",
       "      <td>NaN</td>\n",
       "      <td>NaN</td>\n",
       "      <td>NaN</td>\n",
       "      <td>NaN</td>\n",
       "    </tr>\n",
       "    <tr>\n",
       "      <th>2</th>\n",
       "      <td>node</td>\n",
       "      <td>1223047214</td>\n",
       "      <td>traffic_signals</td>\n",
       "      <td>NaN</td>\n",
       "      <td>POINT (30.04363 -1.94006)</td>\n",
       "      <td>NaN</td>\n",
       "      <td>NaN</td>\n",
       "      <td>NaN</td>\n",
       "      <td>NaN</td>\n",
       "      <td>NaN</td>\n",
       "      <td>...</td>\n",
       "      <td>NaN</td>\n",
       "      <td>NaN</td>\n",
       "      <td>NaN</td>\n",
       "      <td>NaN</td>\n",
       "      <td>NaN</td>\n",
       "      <td>NaN</td>\n",
       "      <td>NaN</td>\n",
       "      <td>NaN</td>\n",
       "      <td>NaN</td>\n",
       "      <td>NaN</td>\n",
       "    </tr>\n",
       "    <tr>\n",
       "      <th>3</th>\n",
       "      <td>node</td>\n",
       "      <td>1224717363</td>\n",
       "      <td>crossing</td>\n",
       "      <td>NaN</td>\n",
       "      <td>POINT (30.06369 -1.96130)</td>\n",
       "      <td>NaN</td>\n",
       "      <td>NaN</td>\n",
       "      <td>NaN</td>\n",
       "      <td>NaN</td>\n",
       "      <td>NaN</td>\n",
       "      <td>...</td>\n",
       "      <td>NaN</td>\n",
       "      <td>NaN</td>\n",
       "      <td>NaN</td>\n",
       "      <td>NaN</td>\n",
       "      <td>NaN</td>\n",
       "      <td>NaN</td>\n",
       "      <td>NaN</td>\n",
       "      <td>NaN</td>\n",
       "      <td>NaN</td>\n",
       "      <td>NaN</td>\n",
       "    </tr>\n",
       "    <tr>\n",
       "      <th>4</th>\n",
       "      <td>node</td>\n",
       "      <td>3205794939</td>\n",
       "      <td>bus_stop</td>\n",
       "      <td>NaN</td>\n",
       "      <td>POINT (30.06493 -1.94539)</td>\n",
       "      <td>NaN</td>\n",
       "      <td>NaN</td>\n",
       "      <td>Péage</td>\n",
       "      <td>yes</td>\n",
       "      <td>platform</td>\n",
       "      <td>...</td>\n",
       "      <td>NaN</td>\n",
       "      <td>NaN</td>\n",
       "      <td>NaN</td>\n",
       "      <td>NaN</td>\n",
       "      <td>NaN</td>\n",
       "      <td>NaN</td>\n",
       "      <td>NaN</td>\n",
       "      <td>NaN</td>\n",
       "      <td>NaN</td>\n",
       "      <td>NaN</td>\n",
       "    </tr>\n",
       "  </tbody>\n",
       "</table>\n",
       "<p>5 rows × 69 columns</p>\n",
       "</div>"
      ],
      "text/plain": [
       "  element_type       osmid          highway traffic_signals  \\\n",
       "0         node   279245303  traffic_signals          signal   \n",
       "1         node   317706734         bus_stop             NaN   \n",
       "2         node  1223047214  traffic_signals             NaN   \n",
       "3         node  1224717363         crossing             NaN   \n",
       "4         node  3205794939         bus_stop             NaN   \n",
       "\n",
       "                    geometry sidewalk:right surface   name  bus  \\\n",
       "0  POINT (30.05672 -1.93932)            NaN     NaN    NaN  NaN   \n",
       "1  POINT (30.06087 -1.94326)            NaN     NaN    NaN  yes   \n",
       "2  POINT (30.04363 -1.94006)            NaN     NaN    NaN  NaN   \n",
       "3  POINT (30.06369 -1.96130)            NaN     NaN    NaN  NaN   \n",
       "4  POINT (30.06493 -1.94539)            NaN     NaN  Péage  yes   \n",
       "\n",
       "  public_transport  ... footway area tunnel maxspeed:forward description  \\\n",
       "0              NaN  ...     NaN  NaN    NaN              NaN         NaN   \n",
       "1         platform  ...     NaN  NaN    NaN              NaN         NaN   \n",
       "2              NaN  ...     NaN  NaN    NaN              NaN         NaN   \n",
       "3              NaN  ...     NaN  NaN    NaN              NaN         NaN   \n",
       "4         platform  ...     NaN  NaN    NaN              NaN         NaN   \n",
       "\n",
       "  noname sidewalk:both junction:ref covered destination:lang  \n",
       "0    NaN           NaN          NaN     NaN              NaN  \n",
       "1    NaN           NaN          NaN     NaN              NaN  \n",
       "2    NaN           NaN          NaN     NaN              NaN  \n",
       "3    NaN           NaN          NaN     NaN              NaN  \n",
       "4    NaN           NaN          NaN     NaN              NaN  \n",
       "\n",
       "[5 rows x 69 columns]"
      ]
     },
     "execution_count": 8,
     "metadata": {},
     "output_type": "execute_result"
    }
   ],
   "source": [
    "kigali_roads.head()"
   ]
  },
  {
   "cell_type": "code",
   "execution_count": 9,
   "metadata": {},
   "outputs": [],
   "source": [
    "# Extract road types\n",
    "#this should actually create two columns: residential, and through_road\n",
    "#both binary: 1 if point is on a residential road, 0 if not\n",
    "#likewise for through_road\n",
    "is_res_road = kigali_roads[lambda gdf: gdf['highway'].isin(['residential', 'living_street'])]\n",
    "is_through_road = kigali_roads[lambda gdf: gdf['highway'].isin(['primary', 'primary_link','trunk'\n",
    "    , 'trunk_link', 'secondary','secondary_link', 'tertiary', 'tertiary_link', 'unclassified'])]"
   ]
  },
  {
   "cell_type": "code",
   "execution_count": 12,
   "metadata": {},
   "outputs": [
    {
     "data": {
      "text/plain": [
       "array(['secondary', 'trunk', 'unclassified', 'tertiary', 'primary',\n",
       "       'trunk_link', 'secondary_link', 'primary_link', 'tertiary_link'],\n",
       "      dtype=object)"
      ]
     },
     "execution_count": 12,
     "metadata": {},
     "output_type": "execute_result"
    }
   ],
   "source": [
    "is_through_road[\"highway\"].unique()"
   ]
  },
  {
   "cell_type": "code",
   "execution_count": 9,
   "metadata": {},
   "outputs": [
    {
     "name": "stderr",
     "output_type": "stream",
     "text": [
      "C:\\Users\\nial\\AppData\\Local\\Temp\\ipykernel_24220\\2772699581.py:40: UserWarning: Geometry is in a geographic CRS. Results from 'buffer' are likely incorrect. Use 'GeoSeries.to_crs()' to re-project geometries to a projected CRS before this operation.\n",
      "\n",
      "  major_roads['buffer'] = major_roads.geometry.buffer(5)  # 5 meter buffer\n",
      "C:\\Users\\nial\\AppData\\Local\\Packages\\PythonSoftwareFoundation.Python.3.9_qbz5n2kfra8p0\\LocalCache\\local-packages\\Python39\\site-packages\\geopandas\\geodataframe.py:1538: SettingWithCopyWarning: \n",
      "A value is trying to be set on a copy of a slice from a DataFrame.\n",
      "Try using .loc[row_indexer,col_indexer] = value instead\n",
      "\n",
      "See the caveats in the documentation: https://pandas.pydata.org/pandas-docs/stable/user_guide/indexing.html#returning-a-view-versus-a-copy\n",
      "  super().__setitem__(key, value)\n",
      "C:\\Users\\nial\\AppData\\Local\\Packages\\PythonSoftwareFoundation.Python.3.9_qbz5n2kfra8p0\\LocalCache\\local-packages\\Python39\\site-packages\\geopandas\\base.py:31: UserWarning: The indices of the two GeoSeries are different.\n",
      "  warn(\"The indices of the two GeoSeries are different.\")\n",
      "C:\\Users\\nial\\AppData\\Local\\Packages\\PythonSoftwareFoundation.Python.3.9_qbz5n2kfra8p0\\LocalCache\\local-packages\\Python39\\site-packages\\shapely\\predicates.py:798: RuntimeWarning: invalid value encountered in intersects\n",
      "  return lib.intersects(a, b, **kwargs)\n",
      "C:\\Users\\nial\\AppData\\Local\\Temp\\ipykernel_24220\\2772699581.py:49: UserWarning: Geometry is in a geographic CRS. Results from 'buffer' are likely incorrect. Use 'GeoSeries.to_crs()' to re-project geometries to a projected CRS before this operation.\n",
      "\n",
      "  res_roads['buffer'] = res_roads.geometry.buffer(3)  # 3 meter buffer\n",
      "C:\\Users\\nial\\AppData\\Local\\Packages\\PythonSoftwareFoundation.Python.3.9_qbz5n2kfra8p0\\LocalCache\\local-packages\\Python39\\site-packages\\geopandas\\geodataframe.py:1538: SettingWithCopyWarning: \n",
      "A value is trying to be set on a copy of a slice from a DataFrame.\n",
      "Try using .loc[row_indexer,col_indexer] = value instead\n",
      "\n",
      "See the caveats in the documentation: https://pandas.pydata.org/pandas-docs/stable/user_guide/indexing.html#returning-a-view-versus-a-copy\n",
      "  super().__setitem__(key, value)\n",
      "C:\\Users\\nial\\AppData\\Local\\Packages\\PythonSoftwareFoundation.Python.3.9_qbz5n2kfra8p0\\LocalCache\\local-packages\\Python39\\site-packages\\geopandas\\base.py:31: UserWarning: The indices of the two GeoSeries are different.\n",
      "  warn(\"The indices of the two GeoSeries are different.\")\n",
      "C:\\Users\\nial\\AppData\\Local\\Packages\\PythonSoftwareFoundation.Python.3.9_qbz5n2kfra8p0\\LocalCache\\local-packages\\Python39\\site-packages\\shapely\\predicates.py:798: RuntimeWarning: invalid value encountered in intersects\n",
      "  return lib.intersects(a, b, **kwargs)\n"
     ]
    }
   ],
   "source": [
    "data_osm = get_location_characteristics(data_aggregated)"
   ]
  },
  {
   "cell_type": "code",
   "execution_count": 10,
   "metadata": {},
   "outputs": [],
   "source": [
    "data_osm.to_csv(r\"C:\\Users\\nial\\OneDrive\\Documents\\ETH-Zürich-DESKTOP-9E8KBS8\\AQ Data Collection\\data_osm.csv\")"
   ]
  },
  {
   "cell_type": "code",
   "execution_count": 11,
   "metadata": {},
   "outputs": [],
   "source": [
    "data_osm = pd.read_csv(r\"C:\\Users\\nial\\OneDrive\\Documents\\ETH-Zürich-DESKTOP-9E8KBS8\\AQ Data Collection\\data_osm.csv\")"
   ]
  },
  {
   "cell_type": "code",
   "execution_count": 15,
   "metadata": {},
   "outputs": [
    {
     "data": {
      "text/plain": [
       "0"
      ]
     },
     "execution_count": 15,
     "metadata": {},
     "output_type": "execute_result"
    }
   ],
   "source": [
    "data_osm[\"major.road\"].sum()"
   ]
  },
  {
   "cell_type": "code",
   "execution_count": 21,
   "metadata": {},
   "outputs": [],
   "source": [
    "kig_geom = ox.geometries.geometries_from_place(\"Kigali\", tags={'highway':True})"
   ]
  }
 ],
 "metadata": {
  "kernelspec": {
   "display_name": "Python 3",
   "language": "python",
   "name": "python3"
  },
  "language_info": {
   "codemirror_mode": {
    "name": "ipython",
    "version": 3
   },
   "file_extension": ".py",
   "mimetype": "text/x-python",
   "name": "python",
   "nbconvert_exporter": "python",
   "pygments_lexer": "ipython3",
   "version": "3.9.13"
  },
  "orig_nbformat": 4
 },
 "nbformat": 4,
 "nbformat_minor": 2
}
