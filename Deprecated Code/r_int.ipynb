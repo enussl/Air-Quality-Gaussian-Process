{
 "cells": [
  {
   "cell_type": "code",
   "execution_count": 1,
   "metadata": {},
   "outputs": [
    {
     "name": "stdout",
     "output_type": "stream",
     "text": [
      "Collecting rpy2\n",
      "  Downloading rpy2-3.5.12.tar.gz (217 kB)\n",
      "  Installing build dependencies: started\n",
      "  Installing build dependencies: finished with status 'done'\n",
      "  Getting requirements to build wheel: started\n",
      "  Getting requirements to build wheel: finished with status 'done'\n",
      "  Preparing wheel metadata (pyproject.toml): started\n",
      "  Preparing wheel metadata (pyproject.toml): finished with status 'done'\n",
      "Collecting cffi>=1.10.0\n",
      "  Using cached cffi-1.15.1-cp39-cp39-win_amd64.whl (179 kB)\n",
      "Requirement already satisfied: packaging in c:\\users\\nial\\appdata\\local\\packages\\pythonsoftwarefoundation.python.3.9_qbz5n2kfra8p0\\localcache\\local-packages\\python39\\site-packages (from rpy2) (23.1)\n",
      "Collecting tzlocal<5.0\n",
      "  Downloading tzlocal-4.3-py3-none-any.whl (20 kB)\n",
      "Requirement already satisfied: pytz in c:\\users\\nial\\appdata\\local\\packages\\pythonsoftwarefoundation.python.3.9_qbz5n2kfra8p0\\localcache\\local-packages\\python39\\site-packages (from rpy2) (2022.7.1)\n",
      "Requirement already satisfied: jinja2 in c:\\users\\nial\\appdata\\local\\packages\\pythonsoftwarefoundation.python.3.9_qbz5n2kfra8p0\\localcache\\local-packages\\python39\\site-packages (from rpy2) (3.1.2)\n",
      "Collecting pycparser\n",
      "  Using cached pycparser-2.21-py2.py3-none-any.whl (118 kB)\n",
      "Collecting tzdata\n",
      "  Downloading tzdata-2023.3-py2.py3-none-any.whl (341 kB)\n",
      "Collecting pytz-deprecation-shim\n",
      "  Downloading pytz_deprecation_shim-0.1.0.post0-py2.py3-none-any.whl (15 kB)\n",
      "Requirement already satisfied: MarkupSafe>=2.0 in c:\\users\\nial\\appdata\\local\\packages\\pythonsoftwarefoundation.python.3.9_qbz5n2kfra8p0\\localcache\\local-packages\\python39\\site-packages (from jinja2->rpy2) (2.1.2)\n",
      "Building wheels for collected packages: rpy2\n",
      "  Building wheel for rpy2 (pyproject.toml): started\n",
      "  Building wheel for rpy2 (pyproject.toml): finished with status 'done'\n",
      "  Created wheel for rpy2: filename=rpy2-3.5.12-py3-none-any.whl size=219769 sha256=76556fe9eab049019ae12da2ccc878417dffd489e4fed34aa416e5bca94c1660\n",
      "  Stored in directory: c:\\users\\nial\\appdata\\local\\pip\\cache\\wheels\\f2\\5f\\63\\fb633ae683692191bd4f6d293bc6334f3eb3c1668313a5c53e\n",
      "Successfully built rpy2\n",
      "Installing collected packages: tzdata, pytz-deprecation-shim, pycparser, tzlocal, cffi, rpy2\n",
      "Successfully installed cffi-1.15.1 pycparser-2.21 pytz-deprecation-shim-0.1.0.post0 rpy2-3.5.12 tzdata-2023.3 tzlocal-4.3\n"
     ]
    },
    {
     "name": "stderr",
     "output_type": "stream",
     "text": [
      "WARNING: You are using pip version 21.3; however, version 23.1.2 is available.\n",
      "You should consider upgrading via the 'C:\\Users\\nial\\AppData\\Local\\Microsoft\\WindowsApps\\PythonSoftwareFoundation.Python.3.9_qbz5n2kfra8p0\\python.exe -m pip install --upgrade pip' command.\n"
     ]
    }
   ],
   "source": [
    "!pip install rpy2"
   ]
  },
  {
   "cell_type": "code",
   "execution_count": 23,
   "metadata": {},
   "outputs": [
    {
     "name": "stdout",
     "output_type": "stream",
     "text": [
      "Name: rpy2\n",
      "Version: 3.5.12\n",
      "Summary: Python interface to the R language (embedded R)\n",
      "Home-page: \n",
      "Author: \n",
      "Author-email: Laurent Gautier <lgautier@gmail.com>\n",
      "License: GPLv2+\n",
      "Location: c:\\users\\nial\\appdata\\local\\packages\\pythonsoftwarefoundation.python.3.9_qbz5n2kfra8p0\\localcache\\local-packages\\python39\\site-packages\n",
      "Requires: cffi, jinja2, packaging, pytz, tzlocal\n",
      "Required-by: \n"
     ]
    }
   ],
   "source": [
    "!pip show rpy2"
   ]
  },
  {
   "cell_type": "code",
   "execution_count": 12,
   "metadata": {},
   "outputs": [],
   "source": [
    "import os\n",
    "os.environ['R_HOME'] = r'C:\\Program Files\\R\\R-4.3.0'\n",
    "os.environ['R_USER'] = r'C:\\users\\nial\\appdata\\local\\packages\\pythonsoftwarefoundation.python.3.9_qbz5n2kfra8p0\\localcache\\local-packages\\python39\\site-packages\\rpy2'\n",
    "import sys"
   ]
  },
  {
   "cell_type": "code",
   "execution_count": 17,
   "metadata": {},
   "outputs": [],
   "source": [
    "sys.path\n",
    "sys.path.append(r\"C:\\Program Files\\R\\R-4.3.0\\bin\\x64\")"
   ]
  },
  {
   "cell_type": "code",
   "execution_count": 1,
   "metadata": {},
   "outputs": [],
   "source": []
  },
  {
   "cell_type": "code",
   "execution_count": 2,
   "metadata": {},
   "outputs": [],
   "source": [
    "r_script_path = r\"C:\\Users\\nial\\OneDrive\\Documents\\GitHub\\Air-Quality-StatsLab\\Code\\data_preprocess.R\""
   ]
  },
  {
   "cell_type": "code",
   "execution_count": 13,
   "metadata": {},
   "outputs": [],
   "source": [
    "os.environ['R_LIBS'] = r'C:\\Users\\nial\\OneDrive\\Documents\\R\\win-library\\4.1'"
   ]
  },
  {
   "cell_type": "code",
   "execution_count": 21,
   "metadata": {},
   "outputs": [
    {
     "data": {
      "text/plain": [
       "CompletedProcess(args=['Rscript', 'C:\\\\Users\\\\nial\\\\OneDrive\\\\Documents\\\\GitHub\\\\Air-Quality-StatsLab\\\\Code\\\\data_preprocess.R', 'C:\\\\Users\\\\nial\\\\OneDrive\\\\Documents\\\\ETH-Zürich-DESKTOP-9E8KBS8\\\\AQ Data Collection\\\\alldata.csv', 'C:\\\\Users\\\\nial\\\\OneDrive\\\\Documents\\\\ETH-Zürich-DESKTOP-9E8KBS8\\\\AQ Data Collection\\\\data_cleaned.csv'], returncode=0)"
      ]
     },
     "execution_count": 21,
     "metadata": {},
     "output_type": "execute_result"
    }
   ],
   "source": [
    "alldata_filepath = r\"C:\\Users\\nial\\OneDrive\\Documents\\ETH-Zürich-DESKTOP-9E8KBS8\\AQ Data Collection\\alldata.csv\"\n",
    "data_cleaned_filepath = r\"C:\\Users\\nial\\OneDrive\\Documents\\ETH-Zürich-DESKTOP-9E8KBS8\\AQ Data Collection\\data_cleaned_.csv\"\n",
    "subprocess.run(['Rscript', r_script_path, alldata_filepath, data_cleaned_filepath])"
   ]
  },
  {
   "attachments": {},
   "cell_type": "markdown",
   "metadata": {},
   "source": [
    "Final: code to insert into notebook"
   ]
  },
  {
   "cell_type": "code",
   "execution_count": null,
   "metadata": {},
   "outputs": [],
   "source": [
    "import os\n",
    "import sys\n",
    "import subprocess"
   ]
  },
  {
   "cell_type": "code",
   "execution_count": 1,
   "metadata": {},
   "outputs": [
    {
     "ename": "SyntaxError",
     "evalue": "EOL while scanning string literal (3190367862.py, line 5)",
     "output_type": "error",
     "traceback": [
      "\u001b[1;36m  Cell \u001b[1;32mIn[1], line 5\u001b[1;36m\u001b[0m\n\u001b[1;33m    R_libs_filepath = r'C:\\Users\\nial\\OneDrive\\Documents\\R\\win-library\\4.1\u001b[0m\n\u001b[1;37m                                                                          ^\u001b[0m\n\u001b[1;31mSyntaxError\u001b[0m\u001b[1;31m:\u001b[0m EOL while scanning string literal\n"
     ]
    }
   ],
   "source": [
    "# Filepath to data_preprocess.R\n",
    "R_script_path = r\"C:\\Users\\nial\\OneDrive\\Documents\\GitHub\\Air-Quality-StatsLab\\Code\\data_preprocess.R\"\n",
    "\n",
    "# Filepath to latest installation of R\n",
    "R_program_filepath = r\"C:\\Program Files\\R\\R-4.3.0\\bin\\x64\"\n",
    "\n",
    "# Filepath to R packages\n",
    "R_pkgs_filepath = r\"C:\\Users\\nial\\OneDrive\\Documents\\R\\win-library\\4.1\"\n",
    "\n",
    "# Filepath to alldata.csv (raw data)\n",
    "alldata_filepath = r\"C:\\Users\\nial\\OneDrive\\Documents\\ETH-Zürich-DESKTOP-9E8KBS8\\AQ Data Collection\\alldata.csv\"\n",
    "\n",
    "# Filepath where you want data_cleaned.csv\n",
    "data_cleaned_filepath = r\"C:\\Users\\nial\\OneDrive\\Documents\\ETH-Zürich-DESKTOP-9E8KBS8\\AQ Data Collection\\data_cleaned_.csv\"\n",
    "\n",
    "def data_cleanse(R_script_path, R_program_filepath, R_pkgs_filepath, alldata_filepath, data_cleaned_filepath):\n",
    "    \"\"\"\n",
    "    A wrapper for running data_preprocess.R straight from this workbook. \n",
    "    Data_preprocess.R is an R script which preprocesses ('cleans') the raw data.\n",
    "\n",
    "    INPUTS: \n",
    "    R_script_path: absolute filepath of data_preprocess.R (str)\n",
    "    R_program_filepath: absolute filepath of the folder containing the latest R installation (str)\n",
    "    R_libs_filepath: absolute filepath of the folder containing R packages (str)\n",
    "    alldata_filepath: absolute filepath of alldata.csv (str)\n",
    "    data_cleaned_filepath: absolute filepath to which data_cleaned.csv will be written (str)\n",
    "\n",
    "    OUTPUTS:\n",
    "    No return value. But produces a .csv file specified by data_cleaned_filepath for the 'cleaned' data.\n",
    "    \"\"\"\n",
    "    sys.path.append(R_program_filepath)\n",
    "    os.environ['R_LIBS'] = R_pkgs_filepath\n",
    "    subprocess.run(['Rscript', R_script_path, alldata_filepath, data_cleaned_filepath])"
   ]
  },
  {
   "cell_type": "code",
   "execution_count": null,
   "metadata": {},
   "outputs": [],
   "source": []
  }
 ],
 "metadata": {
  "kernelspec": {
   "display_name": "Python 3",
   "language": "python",
   "name": "python3"
  },
  "language_info": {
   "codemirror_mode": {
    "name": "ipython",
    "version": 3
   },
   "file_extension": ".py",
   "mimetype": "text/x-python",
   "name": "python",
   "nbconvert_exporter": "python",
   "pygments_lexer": "ipython3",
   "version": "3.9.13"
  },
  "orig_nbformat": 4
 },
 "nbformat": 4,
 "nbformat_minor": 2
}
